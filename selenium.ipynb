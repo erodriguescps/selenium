{
 "cells": [
  {
   "cell_type": "markdown",
   "id": "bd30a226",
   "metadata": {},
   "source": [
    "# Imports"
   ]
  },
  {
   "cell_type": "code",
   "execution_count": null,
   "id": "862f8698",
   "metadata": {},
   "outputs": [],
   "source": [
    "from webdriver_manager.chrome import ChromeDriverManager\n",
    "from selenium.webdriver.chrome.options import Options\n",
    "from selenium.webdriver.support.select import Select\n",
    "from selenium.webdriver.common.keys import Keys\n",
    "from selenium.webdriver.common.by import By\n",
    "from zipfile import ZipFile, ZIP_DEFLATED\n",
    "from shutil import make_archive\n",
    "from selenium import webdriver\n",
    "from datetime import timedelta, date, datetime\n",
    "from time import sleep\n",
    "import pandas as pd\n",
    "import urllib.request\n",
    "import openpyxl\n",
    "import warnings\n",
    "import os\n",
    "import re\n",
    "\n",
    "\n",
    "warnings.simplefilter(\"ignore\") #Ignora os avisos\n",
    "\n",
    "#Instalar:\n",
    "\n",
    "#pip install openpyxl\n",
    "#Pip install pandas\n",
    "#Pip install selenium\n",
    "#pip install webdriver_manager\n",
    "\n",
    "#Modelo send mensagem wpp\n",
    "\n",
    "#texto = 'Olá, vi no Instagram sobre o Cruze 2018 branco!'\n",
    "#celular = 199123456789\n",
    "#print(f\"https://web.whatsapp.com/send?phone={celular}&text={texto.replace(' ', '+')}\")\n"
   ]
  },
  {
   "cell_type": "markdown",
   "id": "4dd6c5ec",
   "metadata": {},
   "source": [
    "# Defs"
   ]
  },
  {
   "cell_type": "code",
   "execution_count": null,
   "id": "9e8b39a1",
   "metadata": {},
   "outputs": [],
   "source": [
    "def sonumero(texto):\n",
    "    r = re.compile(r'\\D')\n",
    "    return r.sub('', texto)"
   ]
  },
  {
   "cell_type": "markdown",
   "id": "9379169f",
   "metadata": {},
   "source": [
    "# Start"
   ]
  },
  {
   "cell_type": "code",
   "execution_count": null,
   "id": "398e60c7",
   "metadata": {},
   "outputs": [],
   "source": [
    "options = webdriver.ChromeOptions()\n",
    "download_path = r\"C:\\Users\\user\\Desktop\\download_path\"\n",
    "\n",
    "options.add_experimental_option(\"prefs\",{\n",
    "    \"download.default_directory\": download_path,\n",
    "    \"download.prompt_for_download\": False,\n",
    "    \"download.directory_upgrade\": True,\n",
    "    \"safebrowsing.enabled\":True,\n",
    "    \"plugins.always_open_pdf_externally\": True })\n",
    "\n",
    "driver = webdriver.Chrome(ChromeDriverManager().install())\n",
    "driver.get('https://web.whatsapp.com/') #abre o site Whatsapp Web"
   ]
  }
 ],
 "metadata": {
  "kernelspec": {
   "display_name": "Python 3 (ipykernel)",
   "language": "python",
   "name": "python3"
  },
  "language_info": {
   "codemirror_mode": {
    "name": "ipython",
    "version": 3
   },
   "file_extension": ".py",
   "mimetype": "text/x-python",
   "name": "python",
   "nbconvert_exporter": "python",
   "pygments_lexer": "ipython3",
   "version": "3.11.3"
  }
 },
 "nbformat": 4,
 "nbformat_minor": 5
}
